{
 "cells": [
  {
   "cell_type": "code",
   "execution_count": null,
   "metadata": {},
   "outputs": [],
   "source": [
    "import numpy as np\n",
    "import tensorflow as tf \n",
    "import pandas as pd"
   ]
  },
  {
   "cell_type": "code",
   "execution_count": 2,
   "metadata": {},
   "outputs": [],
   "source": [
    "dataset=pd.read_csv('D:\\\\programming\\\\coding\\\\dataset\\\\train.csv')"
   ]
  },
  {
   "cell_type": "code",
   "execution_count": null,
   "metadata": {},
   "outputs": [],
   "source": [
    "'''france->0 spain->2 germany->1\n",
    "   male->1 female->0'''\n",
    "from sklearn.preprocessing import LabelEncoder\n",
    "lr=LabelEncoder()\n",
    "x=dataset.iloc[:,3:-1].values\n",
    "y=dataset.iloc[:,-1].values\n",
    "x[:,1]=lr.fit_transform(x[:,1])\n",
    "x[:,2]=lr.fit_transform(x[:,2])\n",
    "print(x[:7,:])"
   ]
  },
  {
   "cell_type": "code",
   "execution_count": 4,
   "metadata": {},
   "outputs": [],
   "source": [
    "from sklearn.preprocessing import StandardScaler\n",
    "sr=StandardScaler()\n",
    "x=sr.fit_transform(x)"
   ]
  },
  {
   "cell_type": "code",
   "execution_count": null,
   "metadata": {},
   "outputs": [],
   "source": [
    "#building the network\n",
    "ann=tf.keras.models.Sequential()\n",
    "#adding layers\n",
    "#first layer\n",
    "ann.add(tf.keras.layers.Dense(units=10 ,activation='relu'))\n",
    "#second layer\n",
    "ann.add(tf.keras.layers.Dense(units=10 ,activation='relu'))\n",
    "#final output layer\n",
    "ann.add(tf.keras.layers.Dense(units=1,activation='sigmoid'))\n",
    "#compile the network\n",
    "ann.compile(optimizer='adam',loss='binary_crossentropy',metrics=[['accuracy']])\n",
    "ann.fit(x,y,epochs=150,batch_size=32)\n"
   ]
  },
  {
   "cell_type": "code",
   "execution_count": null,
   "metadata": {},
   "outputs": [],
   "source": [
    "test_set=pd.read_csv('D:\\\\programming\\\\coding\\\\dataset\\\\test.csv')\n",
    "test_set_x=test_set.iloc[:,3:].values\n",
    "test_set_x[:,1]=lr.fit_transform(test_set_x[:,1])\n",
    "test_set_x[:,2]=lr.fit_transform(test_set_x[:,2])\n",
    "test_set_x=sr.transform(test_set_x)\n",
    "ans=ann.predict(test_set_x)\n",
    "ans=(ans>0.5)\n",
    "ans=ans.astype(int)\n",
    "print(ans)\n",
    "print(test_set.iloc[:,0].values.reshape(1,-1))"
   ]
  },
  {
   "cell_type": "code",
   "execution_count": 29,
   "metadata": {},
   "outputs": [],
   "source": [
    "df=pd.DataFrame({\"id\":test_set.iloc[:,0].values,'exited':ans.reshape(-1)})\n",
    "df.to_csv(r'D:\\programming\\coding\\dataset\\fin_ans.csv',index=False)\n",
    "\n"
   ]
  }
 ],
 "metadata": {
  "kernelspec": {
   "display_name": "Python 3",
   "language": "python",
   "name": "python3"
  },
  "language_info": {
   "codemirror_mode": {
    "name": "ipython",
    "version": 3
   },
   "file_extension": ".py",
   "mimetype": "text/x-python",
   "name": "python",
   "nbconvert_exporter": "python",
   "pygments_lexer": "ipython3",
   "version": "3.11.4"
  }
 },
 "nbformat": 4,
 "nbformat_minor": 2
}
